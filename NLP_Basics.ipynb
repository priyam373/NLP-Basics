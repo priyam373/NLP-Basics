{
  "nbformat": 4,
  "nbformat_minor": 0,
  "metadata": {
    "colab": {
      "provenance": []
    },
    "kernelspec": {
      "name": "python3",
      "display_name": "Python 3"
    },
    "language_info": {
      "name": "python"
    }
  },
  "cells": [
    {
      "cell_type": "markdown",
      "source": [
        "This notebook is going to cover some basic concepts of NLP including\n",
        "\n",
        "1) for ML we use the libraries such as nltk, spacy, textblob\n",
        "\n",
        "2) for DL we use Tensorflow\n",
        "\n",
        "The following concepts are going to be covered here:\n",
        "\n",
        "1) Tokenization: breaking down corpus into words and phrases.\n",
        "\n",
        "2) stopwords: removing irrelavant words\n",
        "\n",
        "3) Stemming: getting the stemmed words\n",
        "\n",
        "4) lammatization: getting the original word that is meaningful"
      ],
      "metadata": {
        "id": "vs3HmvE0Dj39"
      }
    },
    {
      "cell_type": "code",
      "source": [
        "!pip install nltk"
      ],
      "metadata": {
        "id": "FwUrTGClDk_h"
      },
      "execution_count": null,
      "outputs": []
    },
    {
      "cell_type": "code",
      "source": [
        "paragraph=\"\"\"\n",
        "Narendra Damodardas Modi (Gujarati: [ˈnəɾendɾə dɑmodəɾˈdɑs ˈmodiː] (listen); born 17 September 1950)[b] is an Indian politician serving as the 14th and current Prime Minister of India since 2014. Modi was the Chief Minister of Gujarat from 2001 to 2014 and is the Member of Parliament from Varanasi. He is a member of the Bharatiya Janata Party (BJP) and of the Rashtriya Swayamsevak Sangh (RSS), a right-wing Hindu nationalist paramilitary volunteer organisation. He is the longest serving prime minister from outside the Indian National Congress.\n",
        "\n",
        "Modi was born and raised in Vadnagar in northeastern Gujarat, where he completed his secondary education. He was introduced to the RSS at age eight. He has reminisced about helping out after school at his father's tea stall at the Vadnagar railway station. At age 18, Modi was married to Jashodaben Chimanlal Modi, whom he abandoned soon after. He first publicly acknowledged her as his wife more than four decades later when required to do so by Indian law, but has made no contact with her since. Modi has asserted he had travelled in northern India for two years after leaving his parental home, visiting a number of religious centres, but few details of his travels have emerged. Upon his return to Gujarat in 1971, he became a full-time worker for the RSS. After the state of emergency was declared by prime minister Indira Gandhi in 1975, Modi went into hiding. The RSS assigned him to the BJP in 1985 and he held several positions within the party hierarchy until 2001, rising to the rank of general secretary.[c]\n",
        "\"\"\"\n"
      ],
      "metadata": {
        "id": "QjQ1iqsCDpOr"
      },
      "execution_count": 2,
      "outputs": []
    },
    {
      "cell_type": "code",
      "source": [
        "paragraph"
      ],
      "metadata": {
        "colab": {
          "base_uri": "https://localhost:8080/",
          "height": 105
        },
        "id": "2vwEQjLbDqUg",
        "outputId": "0990eb1c-c09b-4c1d-d793-db5d0bdd2ee5"
      },
      "execution_count": 3,
      "outputs": [
        {
          "output_type": "execute_result",
          "data": {
            "text/plain": [
              "\"\\nNarendra Damodardas Modi (Gujarati: [ˈnəɾendɾə dɑmodəɾˈdɑs ˈmodiː] (listen); born 17 September 1950)[b] is an Indian politician serving as the 14th and current Prime Minister of India since 2014. Modi was the Chief Minister of Gujarat from 2001 to 2014 and is the Member of Parliament from Varanasi. He is a member of the Bharatiya Janata Party (BJP) and of the Rashtriya Swayamsevak Sangh (RSS), a right-wing Hindu nationalist paramilitary volunteer organisation. He is the longest serving prime minister from outside the Indian National Congress.\\n\\nModi was born and raised in Vadnagar in northeastern Gujarat, where he completed his secondary education. He was introduced to the RSS at age eight. He has reminisced about helping out after school at his father's tea stall at the Vadnagar railway station. At age 18, Modi was married to Jashodaben Chimanlal Modi, whom he abandoned soon after. He first publicly acknowledged her as his wife more than four decades later when required to do so by Indian law, but has made no contact with her since. Modi has asserted he had travelled in northern India for two years after leaving his parental home, visiting a number of religious centres, but few details of his travels have emerged. Upon his return to Gujarat in 1971, he became a full-time worker for the RSS. After the state of emergency was declared by prime minister Indira Gandhi in 1975, Modi went into hiding. The RSS assigned him to the BJP in 1985 and he held several positions within the party hierarchy until 2001, rising to the rank of general secretary.[c]\\n\""
            ],
            "application/vnd.google.colaboratory.intrinsic+json": {
              "type": "string"
            }
          },
          "metadata": {},
          "execution_count": 3
        }
      ]
    },
    {
      "cell_type": "code",
      "source": [
        "import nltk\n",
        "from nltk.stem import PorterStemmer # to find the original words\n",
        "from nltk.corpus import stopwords # to get rid of unwanted/irrelevant words"
      ],
      "metadata": {
        "id": "eo6Khi7NDrmh"
      },
      "execution_count": 6,
      "outputs": []
    },
    {
      "cell_type": "markdown",
      "source": [
        "### 1.Tokenization:\n",
        "this is to break down corpus into words and phrases for further analysis."
      ],
      "metadata": {
        "id": "GhsVkn_iDtwV"
      }
    },
    {
      "cell_type": "code",
      "source": [
        "nltk.download('punkt') # Punkt package is used to break down Corpus into words. Here we are downloading the package to the local machine.\n",
        "documents=nltk.sent_tokenize(paragraph) # to convert corpus into sentences/documents"
      ],
      "metadata": {
        "colab": {
          "base_uri": "https://localhost:8080/"
        },
        "id": "FTLuwldADskb",
        "outputId": "4635e5d1-1c29-4ef6-83f7-e7de7bdbb0fb"
      },
      "execution_count": 5,
      "outputs": [
        {
          "output_type": "stream",
          "name": "stderr",
          "text": [
            "[nltk_data] Downloading package punkt to /root/nltk_data...\n",
            "[nltk_data]   Unzipping tokenizers/punkt.zip.\n"
          ]
        }
      ]
    },
    {
      "cell_type": "code",
      "source": [
        "documents\n",
        "# Here it breaks down the Corpus into documents/sentences"
      ],
      "metadata": {
        "id": "Mm6MKlu9Dv8u"
      },
      "execution_count": null,
      "outputs": []
    },
    {
      "cell_type": "code",
      "source": [
        "documents[0]"
      ],
      "metadata": {
        "colab": {
          "base_uri": "https://localhost:8080/",
          "height": 36
        },
        "id": "8NGWHfEHewYm",
        "outputId": "a82f57e4-6e14-439a-d842-cce8e11c43eb"
      },
      "execution_count": 9,
      "outputs": [
        {
          "output_type": "execute_result",
          "data": {
            "text/plain": [
              "'\\nNarendra Damodardas Modi (Gujarati: [ˈnəɾendɾə dɑmodəɾˈdɑs ˈmodiː] (listen); born 17 September 1950)[b] is an Indian politician serving as the 14th and current Prime Minister of India since 2014.'"
            ],
            "application/vnd.google.colaboratory.intrinsic+json": {
              "type": "string"
            }
          },
          "metadata": {},
          "execution_count": 9
        }
      ]
    },
    {
      "cell_type": "markdown",
      "source": [
        "### 2. Stemming:\n",
        "it is used to reduce words to their base or root form "
      ],
      "metadata": {
        "id": "nTD-BH_IiyYq"
      }
    },
    {
      "cell_type": "code",
      "source": [
        "#Intializing an instance of the class PorterStemmer\n",
        "stemmer=PorterStemmer()"
      ],
      "metadata": {
        "id": "9opY0o1Fez7V"
      },
      "execution_count": 11,
      "outputs": []
    },
    {
      "cell_type": "code",
      "source": [
        "stemmer.stem('finalised')"
      ],
      "metadata": {
        "colab": {
          "base_uri": "https://localhost:8080/",
          "height": 36
        },
        "id": "PDnPjbz6laG2",
        "outputId": "31c4cf52-c3b0-49ef-d1c9-36a18fa0bbbb"
      },
      "execution_count": 14,
      "outputs": [
        {
          "output_type": "execute_result",
          "data": {
            "text/plain": [
              "'finalis'"
            ],
            "application/vnd.google.colaboratory.intrinsic+json": {
              "type": "string"
            }
          },
          "metadata": {},
          "execution_count": 14
        }
      ]
    },
    {
      "cell_type": "markdown",
      "source": [
        "### 2. Lemmetization:\n",
        "it is used to reduce words to their base or root form but these words are meaningful unlike Stemming as Stemming just removes the suffixes off the words. However, Lemmetization requires more computional power."
      ],
      "metadata": {
        "id": "2Zu4KEMJn_sW"
      }
    },
    {
      "cell_type": "code",
      "source": [
        "from nltk.stem import WordNetLemmatizer\n",
        "import nltk\n",
        "nltk.download('wordnet')\n",
        "nltk.download('omw-1.4')"
      ],
      "metadata": {
        "colab": {
          "base_uri": "https://localhost:8080/"
        },
        "id": "9iOUOWDflirp",
        "outputId": "df99c338-f46c-4f16-98c2-4295290c1721"
      },
      "execution_count": 51,
      "outputs": [
        {
          "output_type": "stream",
          "name": "stderr",
          "text": [
            "[nltk_data] Downloading package wordnet to /root/nltk_data...\n",
            "[nltk_data]   Package wordnet is already up-to-date!\n",
            "[nltk_data] Downloading package omw-1.4 to /root/nltk_data...\n",
            "[nltk_data]   Package omw-1.4 is already up-to-date!\n"
          ]
        },
        {
          "output_type": "execute_result",
          "data": {
            "text/plain": [
              "True"
            ]
          },
          "metadata": {},
          "execution_count": 51
        }
      ]
    },
    {
      "cell_type": "code",
      "source": [
        "Lemmatizer=WordNetLemmatizer()"
      ],
      "metadata": {
        "id": "1evWiCr5odoo"
      },
      "execution_count": 52,
      "outputs": []
    },
    {
      "cell_type": "code",
      "source": [
        "Lemmatizer.lemmatize('goes')"
      ],
      "metadata": {
        "colab": {
          "base_uri": "https://localhost:8080/",
          "height": 36
        },
        "id": "ItcNrneaoiE0",
        "outputId": "1e00f3d1-95e1-4d01-b5be-16ab13add870"
      },
      "execution_count": 53,
      "outputs": [
        {
          "output_type": "execute_result",
          "data": {
            "text/plain": [
              "'go'"
            ],
            "application/vnd.google.colaboratory.intrinsic+json": {
              "type": "string"
            }
          },
          "metadata": {},
          "execution_count": 53
        }
      ]
    },
    {
      "cell_type": "markdown",
      "source": [
        "### 3: Text Cleaning:\n",
        "that is to remove special characters from the paragraph. for that we are going to use regular expression"
      ],
      "metadata": {
        "id": "1ndiIWilpx_V"
      }
    },
    {
      "cell_type": "code",
      "source": [
        "# this regular expression will replace all the special characters other than a-z or A-Z with a space.\n",
        "# it also convers text into lower case as capital and non capital words are considered seperately.\n",
        "import re\n",
        "corpus=[]\n",
        "for i in documents:\n",
        "  corpus.append((re.sub(r'[^a-zA-Z]',' ',i)).lower())\n",
        "corpus"
      ],
      "metadata": {
        "colab": {
          "base_uri": "https://localhost:8080/"
        },
        "id": "wcWjb-gsokZK",
        "outputId": "50d96ada-6922-4219-d4a0-16c9a4cc9562"
      },
      "execution_count": 32,
      "outputs": [
        {
          "output_type": "execute_result",
          "data": {
            "text/plain": [
              "[' narendra damodardas modi  gujarati    n  end   d mod   d s  modi    listen   born    september       b  is an indian politician serving as the   th and current prime minister of india since      ',\n",
              " 'modi was the chief minister of gujarat from      to      and is the member of parliament from varanasi ',\n",
              " 'he is a member of the bharatiya janata party  bjp  and of the rashtriya swayamsevak sangh  rss   a right wing hindu nationalist paramilitary volunteer organisation ',\n",
              " 'he is the longest serving prime minister from outside the indian national congress ',\n",
              " 'modi was born and raised in vadnagar in northeastern gujarat  where he completed his secondary education ',\n",
              " 'he was introduced to the rss at age eight ',\n",
              " 'he has reminisced about helping out after school at his father s tea stall at the vadnagar railway station ',\n",
              " 'at age     modi was married to jashodaben chimanlal modi  whom he abandoned soon after ',\n",
              " 'he first publicly acknowledged her as his wife more than four decades later when required to do so by indian law  but has made no contact with her since ',\n",
              " 'modi has asserted he had travelled in northern india for two years after leaving his parental home  visiting a number of religious centres  but few details of his travels have emerged ',\n",
              " 'upon his return to gujarat in       he became a full time worker for the rss ',\n",
              " 'after the state of emergency was declared by prime minister indira gandhi in       modi went into hiding ',\n",
              " 'the rss assigned him to the bjp in      and he held several positions within the party hierarchy until       rising to the rank of general secretary ',\n",
              " ' c ']"
            ]
          },
          "metadata": {},
          "execution_count": 32
        }
      ]
    },
    {
      "cell_type": "code",
      "source": [
        "stemmer.stem('married')"
      ],
      "metadata": {
        "colab": {
          "base_uri": "https://localhost:8080/",
          "height": 36
        },
        "id": "oxUkjtqYzbwp",
        "outputId": "9d3ec112-2b26-4a43-d435-214bcd59610a"
      },
      "execution_count": 39,
      "outputs": [
        {
          "output_type": "execute_result",
          "data": {
            "text/plain": [
              "'marri'"
            ],
            "application/vnd.google.colaboratory.intrinsic+json": {
              "type": "string"
            }
          },
          "metadata": {},
          "execution_count": 39
        }
      ]
    },
    {
      "cell_type": "code",
      "source": [
        "import nltk\n",
        "nltk.download('stopwords')"
      ],
      "metadata": {
        "colab": {
          "base_uri": "https://localhost:8080/"
        },
        "id": "aeuO10J34cVu",
        "outputId": "1bfeede9-5532-4573-fe21-9e05bb9b56f3"
      },
      "execution_count": 45,
      "outputs": [
        {
          "output_type": "stream",
          "name": "stderr",
          "text": [
            "[nltk_data] Downloading package stopwords to /root/nltk_data...\n",
            "[nltk_data]   Package stopwords is already up-to-date!\n"
          ]
        },
        {
          "output_type": "execute_result",
          "data": {
            "text/plain": [
              "True"
            ]
          },
          "metadata": {},
          "execution_count": 45
        }
      ]
    },
    {
      "cell_type": "markdown",
      "source": [
        "### 4: Word Tokenization + Stopwords + Stemming/Lemmatization:\n",
        "here we will breaking down sentences into words, removing irrelevant words and then performing stemming or lemmatization to reduce the words into their base/root words to reduce dimensions"
      ],
      "metadata": {
        "id": "eZSHV_1J64xJ"
      }
    },
    {
      "cell_type": "code",
      "source": [
        "# Word tokenization: breaking down sentences into words\n",
        "# Stopwords: removing irrelavant words \n",
        "# Stemming/Lemmatization: reducing words into their base/root words\n",
        "for i in corpus:\n",
        "  words=nltk.word_tokenize(i)\n",
        "  for word in words:\n",
        "    if word not in set(stopwords.words('english')):\n",
        "      print(stemmer.stem(word))\n"
      ],
      "metadata": {
        "id": "MDen0Mayp7Zi"
      },
      "execution_count": null,
      "outputs": []
    },
    {
      "cell_type": "code",
      "source": [
        "# Lemmatization\n",
        "from nltk.stem import WordNetLemmatizer\n",
        "Lemmatizer=WordNetLemmatizer()\n",
        "\n",
        "for i in corpus:\n",
        "  words=nltk.word_tokenize(i)\n",
        "  for word in words:\n",
        "    if word not in set(stopwords.words('english')):\n",
        "      print(Lemmatizer.lemmatize(word))"
      ],
      "metadata": {
        "id": "KmuufzkcqPKg"
      },
      "execution_count": null,
      "outputs": []
    },
    {
      "cell_type": "markdown",
      "source": [
        "### 5: Converting words into vectors:\n",
        "a) Bag of Words(BOW): We will be converting words into vectors/features"
      ],
      "metadata": {
        "id": "OByGsFP97Qbm"
      }
    },
    {
      "cell_type": "code",
      "source": [
        "# Applying stopwords and lemmitization\n",
        "import re\n",
        "corpus=[]\n",
        "for i in documents:\n",
        "  review=re.sub(r'[^a-zA-Z]',' ',i)\n",
        "  review=review.lower()\n",
        "  review=review.split()\n",
        "  review=[Lemmatizer.lemmatize(word) for word in review if not word in set(stopwords.words('english'))]\n",
        "  review=' '.join(review)\n",
        "  corpus.append(review)\n",
        "\n"
      ],
      "metadata": {
        "id": "tEM_RIjXJP_V"
      },
      "execution_count": 85,
      "outputs": []
    },
    {
      "cell_type": "code",
      "source": [
        "corpus"
      ],
      "metadata": {
        "colab": {
          "base_uri": "https://localhost:8080/"
        },
        "id": "jaxOAgj_Nnu3",
        "outputId": "f3fb07ef-416b-43e1-e6b1-64549b54ff7f"
      },
      "execution_count": 86,
      "outputs": [
        {
          "output_type": "execute_result",
          "data": {
            "text/plain": [
              "['narendra damodardas modi gujarati n end mod modi listen born september b indian politician serving th current prime minister india since',\n",
              " 'modi chief minister gujarat member parliament varanasi',\n",
              " 'member bharatiya janata party bjp rashtriya swayamsevak sangh r right wing hindu nationalist paramilitary volunteer organisation',\n",
              " 'longest serving prime minister outside indian national congress',\n",
              " 'modi born raised vadnagar northeastern gujarat completed secondary education',\n",
              " 'introduced r age eight',\n",
              " 'reminisced helping school father tea stall vadnagar railway station',\n",
              " 'age modi married jashodaben chimanlal modi abandoned soon',\n",
              " 'first publicly acknowledged wife four decade later required indian law made contact since',\n",
              " 'modi asserted travelled northern india two year leaving parental home visiting number religious centre detail travel emerged',\n",
              " 'upon return gujarat became full time worker r',\n",
              " 'state emergency declared prime minister indira gandhi modi went hiding',\n",
              " 'r assigned bjp held several position within party hierarchy rising rank general secretary',\n",
              " 'c']"
            ]
          },
          "metadata": {},
          "execution_count": 86
        }
      ]
    },
    {
      "cell_type": "code",
      "source": [],
      "metadata": {
        "id": "9GAr3Z6JJjIY"
      },
      "execution_count": 86,
      "outputs": []
    },
    {
      "cell_type": "code",
      "source": [
        "from sklearn.feature_extraction.text import CountVectorizer\n"
      ],
      "metadata": {
        "id": "V9bPiI8R1EN4"
      },
      "execution_count": 57,
      "outputs": []
    },
    {
      "cell_type": "code",
      "source": [
        "cv=CountVectorizer(binary=True) # binary is True for binary bag of words to get values in 0 and 1"
      ],
      "metadata": {
        "id": "dcoiT9Np-NwP"
      },
      "execution_count": 70,
      "outputs": []
    },
    {
      "cell_type": "markdown",
      "source": [
        "### we have already done tokenization, Text cleaning, stopwords and lemmatization, and now we are converting words into vectors."
      ],
      "metadata": {
        "id": "R0k4IrmQOOmy"
      }
    },
    {
      "cell_type": "code",
      "source": [
        "\n",
        "X=cv.fit_transform(corpus)"
      ],
      "metadata": {
        "id": "FlW9xMuV-P3W"
      },
      "execution_count": 87,
      "outputs": []
    },
    {
      "cell_type": "code",
      "source": [
        "cv.vocabulary_"
      ],
      "metadata": {
        "colab": {
          "base_uri": "https://localhost:8080/"
        },
        "id": "whzca7TdH0Wq",
        "outputId": "91be8cbf-8713-4c8e-b17b-441f987c1268"
      },
      "execution_count": 88,
      "outputs": [
        {
          "output_type": "execute_result",
          "data": {
            "text/plain": [
              "{'narendra': 56,\n",
              " 'damodardas': 16,\n",
              " 'modi': 55,\n",
              " 'gujarati': 32,\n",
              " 'end': 24,\n",
              " 'mod': 54,\n",
              " 'listen': 48,\n",
              " 'born': 8,\n",
              " 'september': 86,\n",
              " 'indian': 40,\n",
              " 'politician': 68,\n",
              " 'serving': 87,\n",
              " 'th': 96,\n",
              " 'current': 15,\n",
              " 'prime': 70,\n",
              " 'minister': 53,\n",
              " 'india': 39,\n",
              " 'since': 89,\n",
              " 'chief': 10,\n",
              " 'gujarat': 31,\n",
              " 'member': 52,\n",
              " 'parliament': 66,\n",
              " 'varanasi': 103,\n",
              " 'bharatiya': 6,\n",
              " 'janata': 43,\n",
              " 'party': 67,\n",
              " 'bjp': 7,\n",
              " 'rashtriya': 75,\n",
              " 'swayamsevak': 94,\n",
              " 'sangh': 82,\n",
              " 'right': 80,\n",
              " 'wing': 108,\n",
              " 'hindu': 37,\n",
              " 'nationalist': 58,\n",
              " 'paramilitary': 64,\n",
              " 'volunteer': 105,\n",
              " 'organisation': 62,\n",
              " 'longest': 49,\n",
              " 'outside': 63,\n",
              " 'national': 57,\n",
              " 'congress': 13,\n",
              " 'raised': 73,\n",
              " 'vadnagar': 102,\n",
              " 'northeastern': 59,\n",
              " 'completed': 12,\n",
              " 'secondary': 84,\n",
              " 'education': 20,\n",
              " 'introduced': 42,\n",
              " 'age': 2,\n",
              " 'eight': 21,\n",
              " 'reminisced': 77,\n",
              " 'helping': 34,\n",
              " 'school': 83,\n",
              " 'father': 25,\n",
              " 'tea': 95,\n",
              " 'stall': 91,\n",
              " 'railway': 72,\n",
              " 'station': 93,\n",
              " 'married': 51,\n",
              " 'jashodaben': 44,\n",
              " 'chimanlal': 11,\n",
              " 'abandoned': 0,\n",
              " 'soon': 90,\n",
              " 'first': 26,\n",
              " 'publicly': 71,\n",
              " 'acknowledged': 1,\n",
              " 'wife': 107,\n",
              " 'four': 27,\n",
              " 'decade': 17,\n",
              " 'later': 45,\n",
              " 'required': 78,\n",
              " 'law': 46,\n",
              " 'made': 50,\n",
              " 'contact': 14,\n",
              " 'asserted': 3,\n",
              " 'travelled': 99,\n",
              " 'northern': 60,\n",
              " 'two': 100,\n",
              " 'year': 111,\n",
              " 'leaving': 47,\n",
              " 'parental': 65,\n",
              " 'home': 38,\n",
              " 'visiting': 104,\n",
              " 'number': 61,\n",
              " 'religious': 76,\n",
              " 'centre': 9,\n",
              " 'detail': 19,\n",
              " 'travel': 98,\n",
              " 'emerged': 22,\n",
              " 'upon': 101,\n",
              " 'return': 79,\n",
              " 'became': 5,\n",
              " 'full': 28,\n",
              " 'time': 97,\n",
              " 'worker': 110,\n",
              " 'state': 92,\n",
              " 'emergency': 23,\n",
              " 'declared': 18,\n",
              " 'indira': 41,\n",
              " 'gandhi': 29,\n",
              " 'went': 106,\n",
              " 'hiding': 35,\n",
              " 'assigned': 4,\n",
              " 'held': 33,\n",
              " 'several': 88,\n",
              " 'position': 69,\n",
              " 'within': 109,\n",
              " 'hierarchy': 36,\n",
              " 'rising': 81,\n",
              " 'rank': 74,\n",
              " 'general': 30,\n",
              " 'secretary': 85}"
            ]
          },
          "metadata": {},
          "execution_count": 88
        }
      ]
    },
    {
      "cell_type": "code",
      "source": [
        "corpus[0]"
      ],
      "metadata": {
        "colab": {
          "base_uri": "https://localhost:8080/",
          "height": 36
        },
        "id": "yqHRdXt6H3S6",
        "outputId": "40d2e546-ae9c-45c7-e1ea-434bcc6609da"
      },
      "execution_count": 90,
      "outputs": [
        {
          "output_type": "execute_result",
          "data": {
            "text/plain": [
              "'narendra damodardas modi gujarati n end mod modi listen born september b indian politician serving th current prime minister india since'"
            ],
            "application/vnd.google.colaboratory.intrinsic+json": {
              "type": "string"
            }
          },
          "metadata": {},
          "execution_count": 90
        }
      ]
    },
    {
      "cell_type": "code",
      "source": [
        "X[0].toarray()"
      ],
      "metadata": {
        "colab": {
          "base_uri": "https://localhost:8080/"
        },
        "id": "et8Dh2mzICxE",
        "outputId": "2f3d45bb-3742-4d16-b303-3f72481e6530"
      },
      "execution_count": 91,
      "outputs": [
        {
          "output_type": "execute_result",
          "data": {
            "text/plain": [
              "array([[0, 0, 0, 0, 0, 0, 0, 0, 1, 0, 0, 0, 0, 0, 0, 1, 1, 0, 0, 0, 0, 0,\n",
              "        0, 0, 1, 0, 0, 0, 0, 0, 0, 0, 1, 0, 0, 0, 0, 0, 0, 1, 1, 0, 0, 0,\n",
              "        0, 0, 0, 0, 1, 0, 0, 0, 0, 1, 1, 1, 1, 0, 0, 0, 0, 0, 0, 0, 0, 0,\n",
              "        0, 0, 1, 0, 1, 0, 0, 0, 0, 0, 0, 0, 0, 0, 0, 0, 0, 0, 0, 0, 1, 1,\n",
              "        0, 1, 0, 0, 0, 0, 0, 0, 1, 0, 0, 0, 0, 0, 0, 0, 0, 0, 0, 0, 0, 0,\n",
              "        0, 0]])"
            ]
          },
          "metadata": {},
          "execution_count": 91
        }
      ]
    },
    {
      "cell_type": "code",
      "source": [],
      "metadata": {
        "id": "_phPmhMKIGsz"
      },
      "execution_count": null,
      "outputs": []
    }
  ]
}